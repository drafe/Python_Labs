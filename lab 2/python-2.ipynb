{
 "cells": [
  {
   "cell_type": "markdown",
   "metadata": {},
   "source": [
    "# Лабораторная работа №2"
   ]
  },
  {
   "cell_type": "code",
   "execution_count": 2,
   "metadata": {},
   "outputs": [],
   "source": [
    "import codecs\n",
    "from hashlib import md5\n",
    "import os\n",
    "import subprocess \n",
    "import re \n",
    "import time\n",
    "import random\n",
    "import datetime\n",
    "import sys"
   ]
  },
  {
   "cell_type": "markdown",
   "metadata": {},
   "source": [
    "1. Напишите скрипт, который читает текстовый файл и выводит символы\n",
    "в порядке убывания частоты встречаемости в тексте. Регистр символа\n",
    "не имеет значения. Программа должна учитывать только буквенные\n",
    "символы (символы пунктуации, цифры и служебные символы следует\n",
    "игнорировать). Проверьте работу скрипта на нескольких файлах с\n",
    "текстом на английском и русском языках, сравните результаты с\n",
    "таблицами, приведенными в http://wikipedia.org/wiki/Letter_frequencies."
   ]
  },
  {
   "cell_type": "code",
   "execution_count": 2,
   "metadata": {
    "collapsed": true
   },
   "outputs": [
    {
     "name": "stdout",
     "output_type": "stream",
     "text": [
      "О - 4.97 %\n",
      "Е - 4.47 %\n",
      "А - 3.91 %\n",
      "И - 3.19 %\n",
      "Н - 3.12 %\n",
      "Л - 3.0 %\n",
      "С - 2.81 %\n",
      "Т - 2.75 %\n",
      "В - 2.72 %\n",
      "Р - 2.56 %\n",
      "К - 2.25 %\n",
      "М - 2.12 %\n",
      "Д - 1.66 %\n",
      "Ы - 1.38 %\n",
      "П - 1.22 %\n",
      "Й - 1.03 %\n",
      "Ь - 0.97 %\n",
      "У - 0.94 %\n",
      "Я - 0.94 %\n",
      "Б - 0.84 %\n",
      "Г - 0.78 %\n",
      "З - 0.78 %\n",
      "Х - 0.59 %\n",
      "Ш - 0.47 %\n",
      "Ю - 0.44 %\n",
      "Ж - 0.41 %\n",
      "Ч - 0.38 %\n",
      "Ц - 0.22 %\n",
      "Щ - 0.12 %\n",
      "Э - 0.03 %\n",
      "Ф - 0.0 %\n",
      "Ъ - 0.0 %\n",
      "E - 10.23 %\n",
      "A - 6.73 %\n",
      "T - 6.65 %\n",
      "H - 6.12 %\n",
      "N - 5.62 %\n",
      "O - 5.0 %\n",
      "D - 4.73 %\n",
      "R - 4.69 %\n",
      "I - 4.46 %\n",
      "S - 4.0 %\n",
      "L - 3.88 %\n",
      "W - 1.92 %\n",
      "F - 1.88 %\n",
      "M - 1.65 %\n",
      "Y - 1.62 %\n",
      "G - 1.54 %\n",
      "U - 1.54 %\n",
      "B - 1.08 %\n",
      "K - 1.08 %\n",
      "C - 1.04 %\n",
      "V - 0.62 %\n",
      "P - 0.5 %\n",
      "Q - 0.04 %\n",
      "J - 0.0 %\n",
      "X - 0.0 %\n",
      "Z - 0.0 %\n"
     ]
    }
   ],
   "source": [
    "alphabet_en = ''.join([chr(i) for i in range(ord('A'),ord('Z')+1)])\n",
    "alphabet_ru = ''.join([chr(i) for i in range(ord('А'),ord('Я')+1)])\n",
    "\n",
    "with codecs.open('lab2-1.txt','r',encoding = 'utf-8') as file:\n",
    "    t = file.read().upper()\n",
    "\n",
    "dict_letters_ru = {i:t.count(i) for i in alphabet_ru}\n",
    "dict_letters_en = {i:t.count(i) for i in alphabet_en}\n",
    "dr = dict_letters_ru\n",
    "de = dict_letters_en\n",
    "\n",
    "for i in sorted(dr.items(),key = lambda i: i[1],reverse=True):\n",
    "    print(i[0],\"-\",round(i[1]/len(dr),2),\"%\")\n",
    "    \n",
    "for i in sorted(de.items(),key = lambda i: i[1],reverse=True):\n",
    "    print(i[0],\"-\",round(i[1]/len(de),2),\"%\")"
   ]
  },
  {
   "cell_type": "markdown",
   "metadata": {},
   "source": [
    "2. Напишите скрипт, позволяющий искать в заданной директории и в ее\n",
    "подпапках файлы-дубликаты на основе сравнения контрольных сумм\n",
    "(MD5). Файлы могут иметь одинаковое содержимое, но отличаться\n",
    "именами. Скрипт должен вывести группы имен обнаруженных файловдубликатов"
   ]
  },
  {
   "cell_type": "code",
   "execution_count": 3,
   "metadata": {},
   "outputs": [],
   "source": [
    "def MD5(FileName):\n",
    "    m = md5()\n",
    "    h = m.update(open(FileName, 'rb').read())\n",
    "    return m.hexdigest()"
   ]
  },
  {
   "cell_type": "code",
   "execution_count": 4,
   "metadata": {},
   "outputs": [
    {
     "name": "stdout",
     "output_type": "stream",
     "text": [
      "Введите полный путь к папке: task2\n"
     ]
    },
    {
     "data": {
      "text/plain": [
       "{'c20ad4d76fe97759aa27a0c99bff6710': ['task2\\\\1.txt', 'task2\\\\th\\\\ase.txt'],\n",
       " 'aa25770fa35b8b458abd9945003a6bd0': ['task2\\\\123.txt', 'task2\\\\bah.txt'],\n",
       " '76d80224611fc919a5d54f0ff9fba446': ['task2\\\\2.txt',\n",
       "  'task2\\\\sd\\\\(2).txt',\n",
       "  'task2\\\\sd\\\\re\\\\1.txt']}"
      ]
     },
     "execution_count": 4,
     "metadata": {},
     "output_type": "execute_result"
    }
   ],
   "source": [
    "directory = input('Введите полный путь к папке: ')\n",
    "\n",
    "duplicate = {}\n",
    "for dirs, subdirs, files in os.walk(directory):\n",
    "    for name in files:\n",
    "        file = os.path.join(dirs, name)\n",
    "        try:\n",
    "            duplicate[MD5(file)].append(file)\n",
    "        except KeyError:\n",
    "            duplicate[MD5(file)] = [file,]\n",
    "\n",
    "duplicate = {k : duplicate[k] for k in duplicate.keys() if len(duplicate[k])>1}\n",
    "\n",
    "duplicate"
   ]
  },
  {
   "cell_type": "markdown",
   "metadata": {},
   "source": [
    "3. Задан путь к директории с музыкальными файлами (в названии\n",
    "которых нет номеров, а только названия песен) и текстовый файл,\n",
    "хранящий полный список песен с номерами и названиями в виде строк\n",
    "формата «01. Freefall [6:12]». Напишите скрипт, который корректирует\n",
    "имена файлов в директории на основе текста списка песен."
   ]
  },
  {
   "cell_type": "code",
   "execution_count": 69,
   "metadata": {
    "scrolled": true
   },
   "outputs": [],
   "source": [
    "def duration(path_file):\n",
    "    stdout, stderr = subprocess.Popen(['ffmpeg', '-i', path_file], stdout=subprocess.PIPE, \n",
    "                                      stderr=subprocess.STDOUT).communicate()\n",
    "    matches = re.search(r\"Duration:\\s{1}(?P<hours>\\d+?):(?P<minutes>\\d+?):(?P<seconds>\\d+)\", \n",
    "                        str(stdout), re.DOTALL).groupdict() \n",
    "    return '{}.{}'.format(matches['minutes'],matches['seconds'])\n"
   ]
  },
  {
   "cell_type": "code",
   "execution_count": 71,
   "metadata": {},
   "outputs": [
    {
     "name": "stdout",
     "output_type": "stream",
     "text": [
      "Wall time: 11.8 s\n"
     ]
    }
   ],
   "source": [
    "%%time\n",
    "folder = 'D:\\\\music'\n",
    "files = os.walk('D:\\\\music').__next__()[2]\n",
    "mus_list = ['{:02}. {} [{}]{}'.format(i+1,mus[:mus.rindex('.')],duration(os.path.join(folder,mus)),\n",
    "                                       mus[mus.rindex('.'):]) for i,mus in enumerate(files)]\n",
    "# random.shuffle(mus_list)\n",
    "\n",
    "with open('tracks.txt','w',encoding = 'utf-8') as mus:\n",
    "    mus.write('\\n'.join(mus_list))\n"
   ]
  },
  {
   "cell_type": "code",
   "execution_count": 72,
   "metadata": {
    "collapsed": true
   },
   "outputs": [
    {
     "name": "stdout",
     "output_type": "stream",
     "text": [
      "Wall time: 378 ms\n"
     ]
    },
    {
     "data": {
      "text/plain": [
       "[None,\n",
       " None,\n",
       " None,\n",
       " None,\n",
       " None,\n",
       " None,\n",
       " None,\n",
       " None,\n",
       " None,\n",
       " None,\n",
       " None,\n",
       " None,\n",
       " None,\n",
       " None,\n",
       " None,\n",
       " None,\n",
       " None,\n",
       " None,\n",
       " None,\n",
       " None,\n",
       " None,\n",
       " None,\n",
       " None,\n",
       " None,\n",
       " None,\n",
       " None,\n",
       " None,\n",
       " None,\n",
       " None,\n",
       " None,\n",
       " None,\n",
       " None,\n",
       " None,\n",
       " None,\n",
       " None,\n",
       " None,\n",
       " None,\n",
       " None,\n",
       " None,\n",
       " None,\n",
       " None]"
      ]
     },
     "execution_count": 72,
     "metadata": {},
     "output_type": "execute_result"
    }
   ],
   "source": [
    "%%time\n",
    "with open('tracks.txt','r',encoding = 'utf-8') as mus:\n",
    "    mus_list = mus.read().split('\\n')\n",
    "\n",
    "folder = 'D:\\\\music'\n",
    "[ os.rename(os.path.join(folder,f),os.path.join(folder,m)) \n",
    " for m in mus_list for f in os.walk('D:\\\\music').__next__()[2] if f.lower()[:f.rindex('.')] in m.lower()]\n"
   ]
  },
  {
   "cell_type": "markdown",
   "metadata": {},
   "source": [
    "4) Напишите скрипт, который позволяет ввести с клавиатуры имя текстового файла, найти в нем с помощью регулярных выражений все подстроки определенного вида, в соответствии с вариантом. Например, для варианта № 1 скрипт должен вывести на экран следующее:\n",
    "```\n",
    "Строка 3, позиция 10 : найдено '11-05-2014'\n",
    "Строка 12, позиция 2 : найдено '23-11-2014'\n",
    "Строка 12, позиция 17 : найдено '23-11-2014'\n",
    "```\n",
    "Варианты: \n",
    "1. найдите все даты – подстроки вида «11-05-2014». \n",
    "2. *найдите все значения времени – подстроки вида «23:15:59».*\n",
    "3. найдите все IPv4-адреса – подстроки вида «192.168.5.48».\n",
    "4. найдите все строки вида «type x = value», где type – это тип (может принимать значение int, short или byte), х  любое слово, value – любое число.\n",
    "5. найдите все номера телефонов – подстроки вида «(000)1112233» или «(000)111-22-33».\n",
    "6. найдите все строки вида «x: type [N]», где type – это тип (может принимать значение int, short или byte), х – любое слово, N – любое положительное целое число.\n",
    "7. найдите все «смайлы» – подстроки вида «:)», «:-)», «)))» (количество скобок может быть любым, начиная с 1).\n",
    "8. найдите все логические выражения – подстроки вида «x&&y», «x&y», где х и у – любые слова. Количество пробелов может быть также любым.\n",
    "9. найдите все донецкие почтовые индексы – подстроки вида «83000, Донецк» (первые 2 символа строго закреплены: «83»).\n",
    "10. Найдите все полные имена директорий Windows – подстроки вида «C:\\Dir\\SubDir3»."
   ]
  },
  {
   "cell_type": "code",
   "execution_count": 29,
   "metadata": {},
   "outputs": [
    {
     "name": "stdout",
     "output_type": "stream",
     "text": [
      "['23:15:59', 'zsd32:12:23', '  17:12:32  23:21:54', '12_12_12 ', 'awtgdvgs5eyrsg   00:02:03 ', 'zsgfb:ds:se', '   16:12:45']\n",
      "Строка 0, позиция 0 : найдено '23:15:59'\n",
      "Строка 2, позиция 2 : найдено '17:12:32'\n",
      "Строка 2, позиция 12 : найдено '23:21:54'\n",
      "Строка 4, позиция 17 : найдено '00:02:03'\n",
      "Строка 6, позиция 3 : найдено '16:12:45'\n"
     ]
    }
   ],
   "source": [
    "with open('task4.txt','r') as f:\n",
    "    text = f.read().split('\\n')\n",
    "print(text)\n",
    "\n",
    "find = [\"Строка {}, позиция {} : найдено '{}'\".format(j, m.start(), m.group(0)) for j,t in enumerate(text) \n",
    "        for m in re.finditer(r\"(([0-1]\\d|[2][0-3]):([0-5]\\d):([0-5]\\d))\", t) ]\n",
    "for f in find:\n",
    "    print(f)\n"
   ]
  },
  {
   "cell_type": "markdown",
   "metadata": {},
   "source": [
    "5. Введите с клавиатуры текст. Программно найдите в нем и выведите\n",
    "отдельно все слова, которые начинаются с большого латинского\n",
    "символа (от A до Z) и заканчиваются 2 или 4 цифрами, например\n",
    "«Petr93», «Johnny70», «Service2002». Используйте регулярные\n",
    "выражения."
   ]
  },
  {
   "cell_type": "code",
   "execution_count": 28,
   "metadata": {},
   "outputs": [
    {
     "data": {
      "text/plain": [
       "['Petr93', 'P1234']"
      ]
     },
     "execution_count": 28,
     "metadata": {},
     "output_type": "execute_result"
    }
   ],
   "source": [
    "text = input('Введите текст : ')\n",
    "# text = 'Petr93 Tb12345 GHB1 THsc123 P1234'\n",
    "find = re.findall(r'([A-Z][a-zA-Z]*(?:\\d\\d|\\d{4}))(?:\\s|\\b|$)',text)\n",
    "find"
   ]
  },
  {
   "cell_type": "markdown",
   "metadata": {},
   "source": [
    "6. Напишите скрипт `reorganize.py`, который в директории `--source` создает две директории: Archive и Small. В первую директорию помещаются файлы с датой изменения, отличающейся от текущей даты на количество дней более параметра `--days` (т.е. относительно старые файлы). Во вторую – все файлы размером меньше параметра `--size` байт.\n",
    "\n",
    "Каждая директория должна создаваться только в случае, если найден хотя бы один файл, который должен быть в нее помещен.\n",
    "Пример вызова:\n",
    "```\n",
    "reorganize --source \"C:\\TestDir\" --days 2 --size 4096```\n"
   ]
  },
  {
   "cell_type": "code",
   "execution_count": 5,
   "metadata": {},
   "outputs": [
    {
     "name": "stdout",
     "output_type": "stream",
     "text": [
      "Namespace(days=2, size=25, source='D:\\\\Test')\r\n",
      "Copy_of_[homework]2_python_intro.ipynb t: 2020-04-14 18:01:33.583008 s: 10616b delta: 1\r\n",
      "Copy_of_[seminar,prodv]2_Numpy.ipynb t: 2020-04-14 18:01:33.601562 s: 259238b delta: 1\r\n",
      "labs.rar t: 2020-04-14 18:09:38.140625 s: 67489b delta: 1\r\n",
      "Python Lab1 (5) (6).ipynb t: 2020-04-14 18:01:33.624023 s: 21943b delta: 1\r\n",
      "[homework,_base]3_numpy.ipynb t: 2020-04-14 18:01:33.633789 s: 21317b delta: 1\r\n",
      "[seminar]python_basics.ipynb t: 2020-04-14 18:01:33.647461 s: 86419b delta: 1\r\n",
      "[seminar]tools.ipynb t: 2020-04-14 18:01:33.658203 s: 23856b delta: 1\r\n",
      "[sem_solution]python_basics.ipynb t: 2020-04-14 18:01:33.670898 s: 132155b delta: 1\r\n",
      "\n"
     ]
    }
   ],
   "source": [
    "# start reorganize.py with commandline or\n",
    "\n",
    "cmds = [sys.executable,'reorganize.py', '--source', \"D:\\Test\", '--days','2', '--size','25']\n",
    "output = subprocess.check_output(cmds)\n",
    "print(output.decode('cp866'))"
   ]
  },
  {
   "cell_type": "markdown",
   "metadata": {},
   "source": [
    "7. Написать скрипт trackmix.py, который формирует обзорный трек-микс альбома (попурри из коротких фрагментов mp3-файлов в пользовательской директории). Для манипуляций со звуковыми файлами можно использовать сторонние утилиты, например, FFmpeg.\n",
    "\n",
    "Пример вызова и работы скрипта:\n",
    "```\n",
    "trackmix --source \"C:\\Muz\\Album\" --count 5 --frame 15 -l -e\n",
    "--- processing file 1: 01 - Intro.mp3\n",
    "--- processing file 2: 02 - Outro.mp3\n",
    "--- done!\n",
    "```\n",
    "\n",
    "Параметры скрипта:\n",
    "- `--source` (`-s`) – имя рабочей директории с треками, обязателен;\n",
    "- `--destination` (`-d`) – имя выходного файла, необязателен (если не указан, то имя выходного файла – mix.mp3 в директории source);\n",
    "- `--count` (`-c`) – количество файлов в \"нарезке\", необязателен (если он не указан, то перебираются все mp3-файлы в директории source);\n",
    "- `--frame` (`-f`) – количество секунд на каждый файл, необязателен (если не указан, скрипт вырезает по 10 секунд из произвольного участка каждого файла);\n",
    "- `--log` (`-l`) – необязательный ключ (если этот ключ указывается, то скрипт должен выводить на консоль лог процесса обработки файлов, как в примере);\n",
    "- `--extended` (`-e`) – необязательный ключ (если этот ключ указывается, то каждый фрагмент попурри начинается и завершается небольшим `fade in/fade out`)"
   ]
  },
  {
   "cell_type": "code",
   "execution_count": null,
   "metadata": {},
   "outputs": [],
   "source": [
    "# start trackmix.py with commandline or"
   ]
  },
  {
   "cell_type": "code",
   "execution_count": 9,
   "metadata": {},
   "outputs": [
    {
     "name": "stdout",
     "output_type": "stream",
     "text": [
      "--- processing file 1: 01. Aerosmith - Dream On [04.26].mp3\r\n",
      "--- processing file 2: 02. Apocalyptica - Hope [03.25].mp3\r\n",
      "--- processing file 3: 03. Avantasia - In Quest For [03.53].mp3\r\n",
      "--- processing file 4: 04. Avicii, Sandro Cavazza - Without You [03.01].mp3\r\n",
      "--- processing file 5: 05. Black Lab - This Night [03.29].mp3\r\n",
      "--- mergering the frames...\r\n",
      "--- deleting temporary files...\r\n",
      "--- done\r\n",
      "\n"
     ]
    }
   ],
   "source": [
    "cmds = [sys.executable,'trackmix.py','-s',r'D:\\music','-d','mixed.mp3','-c','5','-l','-e']\n",
    "output = subprocess.check_output(cmds)\n",
    "print(output.decode('cp866'))"
   ]
  },
  {
   "cell_type": "code",
   "execution_count": null,
   "metadata": {},
   "outputs": [],
   "source": []
  }
 ],
 "metadata": {
  "kernelspec": {
   "display_name": "Python 3",
   "language": "python",
   "name": "python3"
  },
  "language_info": {
   "codemirror_mode": {
    "name": "ipython",
    "version": 3
   },
   "file_extension": ".py",
   "mimetype": "text/x-python",
   "name": "python",
   "nbconvert_exporter": "python",
   "pygments_lexer": "ipython3",
   "version": "3.7.3"
  }
 },
 "nbformat": 4,
 "nbformat_minor": 2
}
